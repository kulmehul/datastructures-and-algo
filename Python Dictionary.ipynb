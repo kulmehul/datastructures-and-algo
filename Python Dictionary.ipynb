{
 "cells": [
  {
   "cell_type": "code",
   "execution_count": 1,
   "id": "f2ecb6fc",
   "metadata": {},
   "outputs": [],
   "source": [
    "age = [ 21, 34, 56, 45, 56, 23, 89]"
   ]
  },
  {
   "cell_type": "code",
   "execution_count": 2,
   "id": "66744818",
   "metadata": {},
   "outputs": [],
   "source": [
    "age.append(65)"
   ]
  },
  {
   "cell_type": "code",
   "execution_count": 3,
   "id": "8bb77784",
   "metadata": {},
   "outputs": [
    {
     "data": {
      "text/plain": [
       "[21, 34, 56, 45, 56, 23, 89, 65]"
      ]
     },
     "execution_count": 3,
     "metadata": {},
     "output_type": "execute_result"
    }
   ],
   "source": [
    "age"
   ]
  },
  {
   "cell_type": "code",
   "execution_count": 9,
   "id": "26797a87",
   "metadata": {},
   "outputs": [
    {
     "name": "stdout",
     "output_type": "stream",
     "text": [
      "23\n"
     ]
    }
   ],
   "source": [
    "tom = age[6]\n",
    "print(tom)"
   ]
  },
  {
   "cell_type": "code",
   "execution_count": 7,
   "id": "f5be870e",
   "metadata": {},
   "outputs": [],
   "source": [
    "age.insert(2, 66)"
   ]
  },
  {
   "cell_type": "code",
   "execution_count": 8,
   "id": "5ca1b2e8",
   "metadata": {},
   "outputs": [
    {
     "data": {
      "text/plain": [
       "[21, 34, 66, 56, 45, 56, 23, 89, 65]"
      ]
     },
     "execution_count": 8,
     "metadata": {},
     "output_type": "execute_result"
    }
   ],
   "source": [
    "age"
   ]
  },
  {
   "cell_type": "code",
   "execution_count": 10,
   "id": "34a53eba",
   "metadata": {},
   "outputs": [],
   "source": [
    "db = {}"
   ]
  },
  {
   "cell_type": "code",
   "execution_count": 11,
   "id": "ad480431",
   "metadata": {},
   "outputs": [
    {
     "data": {
      "text/plain": [
       "dict"
      ]
     },
     "execution_count": 11,
     "metadata": {},
     "output_type": "execute_result"
    }
   ],
   "source": [
    "type(db)"
   ]
  },
  {
   "cell_type": "code",
   "execution_count": 37,
   "id": "5a6321b9",
   "metadata": {},
   "outputs": [],
   "source": [
    "db = { \n",
    "        \"ram\":  {\n",
    "            \"a\": 23, \n",
    "            \"email\" : \"ram@lw.com\",\n",
    "            \"pcode\": 302012 \n",
    "        } , \n",
    "        \"pop\":45,  \n",
    "        \"tom\": 24 \n",
    "    }"
   ]
  },
  {
   "cell_type": "code",
   "execution_count": 38,
   "id": "f89bdf15",
   "metadata": {},
   "outputs": [
    {
     "data": {
      "text/plain": [
       "{'ram': {'a': 23, 'email': 'ram@lw.com', 'pcode': 302012},\n",
       " 'pop': 45,\n",
       " 'tom': 24}"
      ]
     },
     "execution_count": 38,
     "metadata": {},
     "output_type": "execute_result"
    }
   ],
   "source": [
    "db"
   ]
  },
  {
   "cell_type": "code",
   "execution_count": 39,
   "id": "80a5fb17",
   "metadata": {},
   "outputs": [
    {
     "data": {
      "text/plain": [
       "{'a': 23, 'email': 'ram@lw.com', 'pcode': 302012}"
      ]
     },
     "execution_count": 39,
     "metadata": {},
     "output_type": "execute_result"
    }
   ],
   "source": [
    "db[\"ram\"]"
   ]
  },
  {
   "cell_type": "code",
   "execution_count": 40,
   "id": "b5ec3718",
   "metadata": {},
   "outputs": [
    {
     "data": {
      "text/plain": [
       "'ram@lw.com'"
      ]
     },
     "execution_count": 40,
     "metadata": {},
     "output_type": "execute_result"
    }
   ],
   "source": [
    "db[\"ram\"][\"email\"]"
   ]
  },
  {
   "cell_type": "code",
   "execution_count": 23,
   "id": "40823d04",
   "metadata": {},
   "outputs": [],
   "source": [
    "# hash table and hash map \n",
    "# python : dict"
   ]
  },
  {
   "cell_type": "code",
   "execution_count": null,
   "id": "23ba6e73",
   "metadata": {},
   "outputs": [],
   "source": []
  },
  {
   "cell_type": "code",
   "execution_count": null,
   "id": "5c5aaaf1",
   "metadata": {},
   "outputs": [],
   "source": []
  },
  {
   "cell_type": "code",
   "execution_count": null,
   "id": "ca69c2a4",
   "metadata": {},
   "outputs": [],
   "source": []
  },
  {
   "cell_type": "code",
   "execution_count": null,
   "id": "1a9a56dd",
   "metadata": {},
   "outputs": [],
   "source": []
  },
  {
   "cell_type": "code",
   "execution_count": 18,
   "id": "e6f6d63d",
   "metadata": {},
   "outputs": [
    {
     "data": {
      "text/plain": [
       "24"
      ]
     },
     "execution_count": 18,
     "metadata": {},
     "output_type": "execute_result"
    }
   ],
   "source": [
    "db[\"tom\"]"
   ]
  },
  {
   "cell_type": "code",
   "execution_count": 41,
   "id": "5cab1d61",
   "metadata": {},
   "outputs": [],
   "source": [
    "db = { \n",
    "        \"ram\": 23, \n",
    "        \"pop\":45,  \n",
    "        \"tom\": 24 \n",
    "    }"
   ]
  },
  {
   "cell_type": "code",
   "execution_count": 42,
   "id": "55ee27c8",
   "metadata": {},
   "outputs": [
    {
     "data": {
      "text/plain": [
       "dict"
      ]
     },
     "execution_count": 42,
     "metadata": {},
     "output_type": "execute_result"
    }
   ],
   "source": [
    "type(db)"
   ]
  },
  {
   "cell_type": "code",
   "execution_count": 44,
   "id": "70faf219",
   "metadata": {},
   "outputs": [
    {
     "data": {
      "text/plain": [
       "dict_keys(['ram', 'pop', 'tom'])"
      ]
     },
     "execution_count": 44,
     "metadata": {},
     "output_type": "execute_result"
    }
   ],
   "source": [
    "db.keys()"
   ]
  },
  {
   "cell_type": "code",
   "execution_count": 45,
   "id": "e715a88d",
   "metadata": {},
   "outputs": [
    {
     "data": {
      "text/plain": [
       "dict_values([23, 45, 24])"
      ]
     },
     "execution_count": 45,
     "metadata": {},
     "output_type": "execute_result"
    }
   ],
   "source": [
    "db.values()"
   ]
  },
  {
   "cell_type": "code",
   "execution_count": 46,
   "id": "d94bef9e",
   "metadata": {},
   "outputs": [
    {
     "data": {
      "text/plain": [
       "dict_items([('ram', 23), ('pop', 45), ('tom', 24)])"
      ]
     },
     "execution_count": 46,
     "metadata": {},
     "output_type": "execute_result"
    }
   ],
   "source": [
    "db.items()"
   ]
  },
  {
   "cell_type": "code",
   "execution_count": 49,
   "id": "ccf05c66",
   "metadata": {},
   "outputs": [
    {
     "name": "stdout",
     "output_type": "stream",
     "text": [
      "ram 24\n",
      "pop 46\n",
      "tom 25\n"
     ]
    }
   ],
   "source": [
    "for i,j in db.items():\n",
    "    print(i,j + 1)"
   ]
  },
  {
   "cell_type": "code",
   "execution_count": 52,
   "id": "c72206e6",
   "metadata": {},
   "outputs": [],
   "source": [
    "db[\"ram\"] = 90"
   ]
  },
  {
   "cell_type": "code",
   "execution_count": 53,
   "id": "1eff4d0a",
   "metadata": {},
   "outputs": [
    {
     "data": {
      "text/plain": [
       "{'ram': 90, 'pop': 45, 'tom': 24}"
      ]
     },
     "execution_count": 53,
     "metadata": {},
     "output_type": "execute_result"
    }
   ],
   "source": [
    "db"
   ]
  },
  {
   "cell_type": "code",
   "execution_count": 54,
   "id": "b567072b",
   "metadata": {},
   "outputs": [],
   "source": [
    "db[\"vimal\"] = 1234"
   ]
  },
  {
   "cell_type": "code",
   "execution_count": 55,
   "id": "16012e3c",
   "metadata": {},
   "outputs": [
    {
     "data": {
      "text/plain": [
       "{'ram': 90, 'pop': 45, 'tom': 24, 'vimal': 1234}"
      ]
     },
     "execution_count": 55,
     "metadata": {},
     "output_type": "execute_result"
    }
   ],
   "source": [
    "db"
   ]
  },
  {
   "cell_type": "code",
   "execution_count": null,
   "id": "1bbe48e7",
   "metadata": {},
   "outputs": [],
   "source": []
  }
 ],
 "metadata": {
  "kernelspec": {
   "display_name": "Python 3",
   "language": "python",
   "name": "python3"
  },
  "language_info": {
   "codemirror_mode": {
    "name": "ipython",
    "version": 3
   },
   "file_extension": ".py",
   "mimetype": "text/x-python",
   "name": "python",
   "nbconvert_exporter": "python",
   "pygments_lexer": "ipython3",
   "version": "3.8.8"
  }
 },
 "nbformat": 4,
 "nbformat_minor": 5
}
