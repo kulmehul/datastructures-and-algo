{
 "cells": [
  {
   "cell_type": "code",
   "execution_count": 27,
   "id": "6ad21329",
   "metadata": {},
   "outputs": [],
   "source": [
    "cars = [ 4, 3,2,7,6,9,1]"
   ]
  },
  {
   "cell_type": "code",
   "execution_count": 3,
   "id": "b9caeea6",
   "metadata": {},
   "outputs": [
    {
     "data": {
      "text/plain": [
       "9"
      ]
     },
     "execution_count": 3,
     "metadata": {},
     "output_type": "execute_result"
    }
   ],
   "source": [
    "cars[4]"
   ]
  },
  {
   "cell_type": "code",
   "execution_count": 4,
   "id": "f077b42b",
   "metadata": {},
   "outputs": [
    {
     "data": {
      "text/plain": [
       "[3, 2, 7, 6, 9, 1, 4]"
      ]
     },
     "execution_count": 4,
     "metadata": {},
     "output_type": "execute_result"
    }
   ],
   "source": [
    "cars"
   ]
  },
  {
   "cell_type": "code",
   "execution_count": 5,
   "id": "466b7f24",
   "metadata": {},
   "outputs": [
    {
     "data": {
      "text/plain": [
       "0"
      ]
     },
     "execution_count": 5,
     "metadata": {},
     "output_type": "execute_result"
    }
   ],
   "source": [
    "# index() : linear search algo\n",
    "cars.index(3)\n",
    "# best case "
   ]
  },
  {
   "cell_type": "code",
   "execution_count": 6,
   "id": "30df931d",
   "metadata": {},
   "outputs": [
    {
     "data": {
      "text/plain": [
       "6"
      ]
     },
     "execution_count": 6,
     "metadata": {},
     "output_type": "execute_result"
    }
   ],
   "source": [
    "cars.index(4)"
   ]
  },
  {
   "cell_type": "code",
   "execution_count": 7,
   "id": "b60250fe",
   "metadata": {},
   "outputs": [
    {
     "ename": "ValueError",
     "evalue": "5 is not in list",
     "output_type": "error",
     "traceback": [
      "\u001b[1;31m---------------------------------------------------------------------------\u001b[0m",
      "\u001b[1;31mValueError\u001b[0m                                Traceback (most recent call last)",
      "\u001b[1;32m<ipython-input-7-e0a688a5851b>\u001b[0m in \u001b[0;36m<module>\u001b[1;34m\u001b[0m\n\u001b[1;32m----> 1\u001b[1;33m \u001b[0mcars\u001b[0m\u001b[1;33m.\u001b[0m\u001b[0mindex\u001b[0m\u001b[1;33m(\u001b[0m\u001b[1;36m5\u001b[0m\u001b[1;33m)\u001b[0m\u001b[1;33m\u001b[0m\u001b[1;33m\u001b[0m\u001b[0m\n\u001b[0m",
      "\u001b[1;31mValueError\u001b[0m: 5 is not in list"
     ]
    }
   ],
   "source": [
    "cars.index(5)"
   ]
  },
  {
   "cell_type": "code",
   "execution_count": 34,
   "id": "5adbcda8",
   "metadata": {},
   "outputs": [
    {
     "data": {
      "text/plain": [
       "[4, 3, 2, 7, 6, 9, 1]"
      ]
     },
     "execution_count": 34,
     "metadata": {},
     "output_type": "execute_result"
    }
   ],
   "source": [
    "cars"
   ]
  },
  {
   "cell_type": "code",
   "execution_count": 45,
   "id": "a1d67137",
   "metadata": {},
   "outputs": [],
   "source": [
    "cars1 = [ 3,65,78,86,9,997,97]"
   ]
  },
  {
   "cell_type": "code",
   "execution_count": 47,
   "id": "1a1c4532",
   "metadata": {},
   "outputs": [],
   "source": [
    "cars2 = [2,4,64,7,647,8,637,58,63,868,5,37,89,89,758,9,33,757,353,758,40]"
   ]
  },
  {
   "cell_type": "code",
   "execution_count": 48,
   "id": "1f0be1c0",
   "metadata": {},
   "outputs": [],
   "source": [
    "# linear search algo\n",
    "def my_car_search(current_parking, current_car):\n",
    "    mycar = current_car\n",
    "\n",
    "    for i in current_parking:\n",
    "        if i == mycar: \n",
    "            print(\"found\")  # best case : omega(1) unit cpu\n",
    "            break\n",
    "        else:\n",
    "            print(\"not found\")"
   ]
  },
  {
   "cell_type": "code",
   "execution_count": 49,
   "id": "e43e11d7",
   "metadata": {},
   "outputs": [
    {
     "name": "stdout",
     "output_type": "stream",
     "text": [
      "found\n"
     ]
    }
   ],
   "source": [
    "# best case : 1\n",
    "my_car_search(cars2, 2)"
   ]
  },
  {
   "cell_type": "code",
   "execution_count": 44,
   "id": "b37388e9",
   "metadata": {},
   "outputs": [
    {
     "name": "stdout",
     "output_type": "stream",
     "text": [
      "found\n"
     ]
    }
   ],
   "source": [
    "my_car_search(cars1 , 3 )"
   ]
  },
  {
   "cell_type": "code",
   "execution_count": null,
   "id": "6390e9e5",
   "metadata": {},
   "outputs": [],
   "source": []
  }
 ],
 "metadata": {
  "kernelspec": {
   "display_name": "Python 3",
   "language": "python",
   "name": "python3"
  },
  "language_info": {
   "codemirror_mode": {
    "name": "ipython",
    "version": 3
   },
   "file_extension": ".py",
   "mimetype": "text/x-python",
   "name": "python",
   "nbconvert_exporter": "python",
   "pygments_lexer": "ipython3",
   "version": "3.8.8"
  }
 },
 "nbformat": 4,
 "nbformat_minor": 5
}
