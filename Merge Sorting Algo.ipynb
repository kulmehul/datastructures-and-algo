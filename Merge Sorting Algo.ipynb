{
 "cells": [
  {
   "cell_type": "code",
   "execution_count": 1,
   "id": "9506a24f",
   "metadata": {},
   "outputs": [],
   "source": [
    "def merge_sort(arr):\n",
    "    # time : O(log n)\n",
    "    if len(arr) > 1:\n",
    "        mid = int(len(arr)/2)\n",
    "        \n",
    "        lefthalf = arr[:mid]\n",
    "        righthalf = arr[mid:]\n",
    "        \n",
    "        merge_sort(lefthalf)\n",
    "        merge_sort(righthalf)\n",
    "        \n",
    "        i = 0\n",
    "        j = 0\n",
    "        \n",
    "        # final tracker\n",
    "        k = 0\n",
    "     \n",
    "    # this loop is mergeing back into top array\n",
    "    # time: O(n logn )\n",
    "        while i < len(lefthalf) and j < len(righthalf):\n",
    "            if lefthalf[i] < righthalf[j]:\n",
    "                arr[k] = lefthalf[i]\n",
    "                \n",
    "                i+=1\n",
    "                \n",
    "            else:\n",
    "                arr[k] = righthalf[j]\n",
    "                j += 1\n",
    "                \n",
    "            k+=1\n",
    "            \n",
    "        \n",
    "        while i < len(lefthalf):\n",
    "            arr[k] = lefthalf[i]\n",
    "            i+=1\n",
    "            k+=1\n",
    "            \n",
    "        while j < len(righthalf):\n",
    "            arr[k] = righthalf[j]\n",
    "            j+=1\n",
    "            k+=1\n",
    "            \n",
    "    print(arr)      "
   ]
  },
  {
   "cell_type": "code",
   "execution_count": 2,
   "id": "9dc887b8",
   "metadata": {},
   "outputs": [],
   "source": [
    "arr = [ 11,2,5,4,7,56,2,12,23 ]"
   ]
  },
  {
   "cell_type": "code",
   "execution_count": 3,
   "id": "d713bf32",
   "metadata": {},
   "outputs": [
    {
     "name": "stdout",
     "output_type": "stream",
     "text": [
      "[11]\n",
      "[2]\n",
      "[2, 11]\n",
      "[5]\n",
      "[4]\n",
      "[4, 5]\n",
      "[2, 4, 5, 11]\n",
      "[7]\n",
      "[56]\n",
      "[7, 56]\n",
      "[2]\n",
      "[12]\n",
      "[23]\n",
      "[12, 23]\n",
      "[2, 12, 23]\n",
      "[2, 7, 12, 23, 56]\n",
      "[2, 2, 4, 5, 7, 11, 12, 23, 56]\n"
     ]
    }
   ],
   "source": [
    "# 2sum problem\n",
    "# sort : O(n log n)\n",
    "merge_sort(arr)"
   ]
  },
  {
   "cell_type": "code",
   "execution_count": 4,
   "id": "cb86f7e6",
   "metadata": {},
   "outputs": [
    {
     "data": {
      "text/plain": [
       "[2, 2, 4, 5, 7, 11, 12, 23, 56]"
      ]
     },
     "execution_count": 4,
     "metadata": {},
     "output_type": "execute_result"
    }
   ],
   "source": [
    "arr"
   ]
  },
  {
   "cell_type": "code",
   "execution_count": null,
   "id": "12b51995",
   "metadata": {},
   "outputs": [],
   "source": [
    "arr"
   ]
  },
  {
   "cell_type": "code",
   "execution_count": null,
   "id": "860be6ac",
   "metadata": {},
   "outputs": [],
   "source": [
    "low = 0"
   ]
  },
  {
   "cell_type": "code",
   "execution_count": null,
   "id": "8868bfc2",
   "metadata": {},
   "outputs": [],
   "source": [
    "high = len(arr) - 1"
   ]
  },
  {
   "cell_type": "code",
   "execution_count": null,
   "id": "cc0c4049",
   "metadata": {},
   "outputs": [],
   "source": [
    "high"
   ]
  },
  {
   "cell_type": "code",
   "execution_count": null,
   "id": "e37beaec",
   "metadata": {},
   "outputs": [],
   "source": [
    "arr[low]"
   ]
  },
  {
   "cell_type": "code",
   "execution_count": null,
   "id": "26ff4d27",
   "metadata": {},
   "outputs": [],
   "source": [
    "arr[high]"
   ]
  },
  {
   "cell_type": "code",
   "execution_count": null,
   "id": "4bec3786",
   "metadata": {},
   "outputs": [],
   "source": [
    "curSum = arr[low] + arr[high]"
   ]
  },
  {
   "cell_type": "code",
   "execution_count": null,
   "id": "3cff317c",
   "metadata": {},
   "outputs": [],
   "source": [
    "curSum"
   ]
  },
  {
   "cell_type": "code",
   "execution_count": null,
   "id": "948a18b2",
   "metadata": {},
   "outputs": [],
   "source": [
    "targetValue = 17"
   ]
  },
  {
   "cell_type": "code",
   "execution_count": null,
   "id": "f6cf2ab1",
   "metadata": {},
   "outputs": [],
   "source": [
    "targetValue"
   ]
  },
  {
   "cell_type": "code",
   "execution_count": 12,
   "id": "eb5e20fa",
   "metadata": {},
   "outputs": [],
   "source": [
    "# O(n)\n",
    "def twoSum(arr, targetValue):\n",
    "    low = 0\n",
    "    high = len(arr) - 1\n",
    "    targetValue = targetValue\n",
    "\n",
    "    while low < high:\n",
    "        curSum = arr[low] + arr[high]\n",
    "        if curSum == targetValue:\n",
    "            #print(\"found\")\n",
    "            #print(low , high)\n",
    "            # break\n",
    "            return [ low, high ]\n",
    "        elif targetValue < curSum:\n",
    "            high -= 1\n",
    "        elif targetValue > curSum:\n",
    "            low += 1\n",
    "            \n",
    "    return -1"
   ]
  },
  {
   "cell_type": "code",
   "execution_count": 13,
   "id": "eb26b75a",
   "metadata": {},
   "outputs": [
    {
     "data": {
      "text/plain": [
       "[2, 2, 4, 5, 7, 11, 12, 23, 56]"
      ]
     },
     "execution_count": 13,
     "metadata": {},
     "output_type": "execute_result"
    }
   ],
   "source": [
    "arr"
   ]
  },
  {
   "cell_type": "code",
   "execution_count": 16,
   "id": "3f495c84",
   "metadata": {},
   "outputs": [
    {
     "data": {
      "text/plain": [
       "[0, 7]"
      ]
     },
     "execution_count": 16,
     "metadata": {},
     "output_type": "execute_result"
    }
   ],
   "source": [
    "twoSum(arr, 25)"
   ]
  },
  {
   "cell_type": "code",
   "execution_count": null,
   "id": "a79dc739",
   "metadata": {},
   "outputs": [],
   "source": []
  },
  {
   "cell_type": "code",
   "execution_count": null,
   "id": "0cbd6556",
   "metadata": {},
   "outputs": [],
   "source": []
  }
 ],
 "metadata": {
  "kernelspec": {
   "display_name": "Python 3",
   "language": "python",
   "name": "python3"
  },
  "language_info": {
   "codemirror_mode": {
    "name": "ipython",
    "version": 3
   },
   "file_extension": ".py",
   "mimetype": "text/x-python",
   "name": "python",
   "nbconvert_exporter": "python",
   "pygments_lexer": "ipython3",
   "version": "3.8.8"
  }
 },
 "nbformat": 4,
 "nbformat_minor": 5
}
