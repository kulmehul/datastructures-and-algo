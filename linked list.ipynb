{
 "cells": [
  {
   "cell_type": "code",
   "execution_count": 4,
   "id": "4437ec9f",
   "metadata": {},
   "outputs": [],
   "source": [
    "class Person:\n",
    "    def __init__(self, n, m , c):\n",
    "        self.name = n\n",
    "        self.phone = m\n",
    "        self.cname = c"
   ]
  },
  {
   "cell_type": "code",
   "execution_count": 5,
   "id": "96ce6f54",
   "metadata": {},
   "outputs": [],
   "source": [
    "vimal =  Person(\"vdaga\", 11111, \"lw\")"
   ]
  },
  {
   "cell_type": "code",
   "execution_count": 6,
   "id": "35eb5d2b",
   "metadata": {},
   "outputs": [
    {
     "data": {
      "text/plain": [
       "<__main__.Person at 0x26339b80280>"
      ]
     },
     "execution_count": 6,
     "metadata": {},
     "output_type": "execute_result"
    }
   ],
   "source": [
    "vimal"
   ]
  },
  {
   "cell_type": "code",
   "execution_count": 7,
   "id": "4113ed7c",
   "metadata": {},
   "outputs": [],
   "source": [
    "jack = Person(\"j\", 2222, \"rh\")"
   ]
  },
  {
   "cell_type": "code",
   "execution_count": 8,
   "id": "bde5ba28",
   "metadata": {},
   "outputs": [
    {
     "data": {
      "text/plain": [
       "<__main__.Person at 0x2633ab17640>"
      ]
     },
     "execution_count": 8,
     "metadata": {},
     "output_type": "execute_result"
    }
   ],
   "source": [
    "jack"
   ]
  },
  {
   "cell_type": "code",
   "execution_count": 10,
   "id": "359dc1ae",
   "metadata": {},
   "outputs": [
    {
     "data": {
      "text/plain": [
       "'lw'"
      ]
     },
     "execution_count": 10,
     "metadata": {},
     "output_type": "execute_result"
    }
   ],
   "source": [
    "vimal.cname"
   ]
  },
  {
   "cell_type": "code",
   "execution_count": null,
   "id": "c1673b8d",
   "metadata": {},
   "outputs": [],
   "source": []
  },
  {
   "cell_type": "code",
   "execution_count": null,
   "id": "46655e86",
   "metadata": {},
   "outputs": [],
   "source": []
  },
  {
   "cell_type": "code",
   "execution_count": null,
   "id": "55075b60",
   "metadata": {},
   "outputs": [],
   "source": []
  },
  {
   "cell_type": "code",
   "execution_count": 13,
   "id": "4ffa80cc",
   "metadata": {},
   "outputs": [],
   "source": [
    "class Person:\n",
    "    def __init__(self, n):\n",
    "        self.name = n"
   ]
  },
  {
   "cell_type": "code",
   "execution_count": 14,
   "id": "3f62061c",
   "metadata": {},
   "outputs": [],
   "source": [
    "\n",
    "vimal = Person(\"vdaga\")"
   ]
  },
  {
   "cell_type": "code",
   "execution_count": 15,
   "id": "49488b85",
   "metadata": {},
   "outputs": [],
   "source": [
    "jack = Person(\"j pop\")"
   ]
  },
  {
   "cell_type": "code",
   "execution_count": 23,
   "id": "9628185e",
   "metadata": {},
   "outputs": [],
   "source": [
    "krish = Person(\"k k\")"
   ]
  },
  {
   "cell_type": "code",
   "execution_count": 25,
   "id": "d48761ef",
   "metadata": {},
   "outputs": [],
   "source": [
    "# memory RT : random\n",
    "# is not good : management of variable : object\n",
    "tom = Person(\"tom pp\")"
   ]
  },
  {
   "cell_type": "code",
   "execution_count": 26,
   "id": "cb140f44",
   "metadata": {},
   "outputs": [
    {
     "data": {
      "text/plain": [
       "<__main__.Person at 0x2633b3128b0>"
      ]
     },
     "execution_count": 26,
     "metadata": {},
     "output_type": "execute_result"
    }
   ],
   "source": [
    "tom"
   ]
  },
  {
   "cell_type": "code",
   "execution_count": 27,
   "id": "56117355",
   "metadata": {},
   "outputs": [
    {
     "data": {
      "text/plain": [
       "<__main__.Person at 0x2633b15ca90>"
      ]
     },
     "execution_count": 27,
     "metadata": {},
     "output_type": "execute_result"
    }
   ],
   "source": [
    "krish"
   ]
  },
  {
   "cell_type": "code",
   "execution_count": null,
   "id": "1829366d",
   "metadata": {},
   "outputs": [],
   "source": []
  },
  {
   "cell_type": "code",
   "execution_count": 18,
   "id": "b0678fd9",
   "metadata": {},
   "outputs": [
    {
     "data": {
      "text/plain": [
       "'k k'"
      ]
     },
     "execution_count": 18,
     "metadata": {},
     "output_type": "execute_result"
    }
   ],
   "source": [
    "krish.name"
   ]
  },
  {
   "cell_type": "code",
   "execution_count": 19,
   "id": "fb6bdd48",
   "metadata": {},
   "outputs": [
    {
     "data": {
      "text/plain": [
       "'vdaga'"
      ]
     },
     "execution_count": 19,
     "metadata": {},
     "output_type": "execute_result"
    }
   ],
   "source": [
    "vimal.name"
   ]
  },
  {
   "cell_type": "code",
   "execution_count": 20,
   "id": "a9c01c50",
   "metadata": {},
   "outputs": [],
   "source": [
    "a = [\"v\", \"j\", \"k\"]"
   ]
  },
  {
   "cell_type": "code",
   "execution_count": 21,
   "id": "99575dc5",
   "metadata": {},
   "outputs": [],
   "source": [
    "a.append(\"tom\")"
   ]
  },
  {
   "cell_type": "code",
   "execution_count": 22,
   "id": "5f37461a",
   "metadata": {},
   "outputs": [
    {
     "data": {
      "text/plain": [
       "['v', 'j', 'k', 'tom']"
      ]
     },
     "execution_count": 22,
     "metadata": {},
     "output_type": "execute_result"
    }
   ],
   "source": [
    "a"
   ]
  },
  {
   "cell_type": "code",
   "execution_count": null,
   "id": "719dd0a7",
   "metadata": {},
   "outputs": [],
   "source": []
  },
  {
   "cell_type": "code",
   "execution_count": null,
   "id": "69f47583",
   "metadata": {},
   "outputs": [],
   "source": []
  },
  {
   "cell_type": "code",
   "execution_count": null,
   "id": "6c5956c8",
   "metadata": {},
   "outputs": [],
   "source": []
  },
  {
   "cell_type": "code",
   "execution_count": null,
   "id": "926bc171",
   "metadata": {},
   "outputs": [],
   "source": []
  },
  {
   "cell_type": "code",
   "execution_count": null,
   "id": "876a2373",
   "metadata": {},
   "outputs": [],
   "source": []
  },
  {
   "cell_type": "code",
   "execution_count": 33,
   "id": "a8c5dad8",
   "metadata": {},
   "outputs": [],
   "source": [
    "class Node:\n",
    "    def __init__(self):\n",
    "        self.name = None\n",
    "        self.next = None"
   ]
  },
  {
   "cell_type": "code",
   "execution_count": 34,
   "id": "c3160396",
   "metadata": {},
   "outputs": [],
   "source": [
    "db = Node()"
   ]
  },
  {
   "cell_type": "code",
   "execution_count": 35,
   "id": "e160782c",
   "metadata": {},
   "outputs": [
    {
     "data": {
      "text/plain": [
       "<__main__.Node at 0x2633b3129a0>"
      ]
     },
     "execution_count": 35,
     "metadata": {},
     "output_type": "execute_result"
    }
   ],
   "source": [
    "db"
   ]
  },
  {
   "cell_type": "code",
   "execution_count": 36,
   "id": "d5d370e9",
   "metadata": {},
   "outputs": [],
   "source": [
    "db.name"
   ]
  },
  {
   "cell_type": "code",
   "execution_count": 37,
   "id": "719ed3d6",
   "metadata": {},
   "outputs": [],
   "source": [
    "db.next"
   ]
  },
  {
   "cell_type": "code",
   "execution_count": 38,
   "id": "b4ed5edc",
   "metadata": {},
   "outputs": [],
   "source": [
    "a = Node()"
   ]
  },
  {
   "cell_type": "code",
   "execution_count": 39,
   "id": "7a0fca14",
   "metadata": {},
   "outputs": [
    {
     "data": {
      "text/plain": [
       "<__main__.Node at 0x2633b59deb0>"
      ]
     },
     "execution_count": 39,
     "metadata": {},
     "output_type": "execute_result"
    }
   ],
   "source": [
    "a"
   ]
  },
  {
   "cell_type": "code",
   "execution_count": 40,
   "id": "db596d47",
   "metadata": {},
   "outputs": [],
   "source": [
    "a.name"
   ]
  },
  {
   "cell_type": "code",
   "execution_count": 41,
   "id": "6429d206",
   "metadata": {},
   "outputs": [],
   "source": [
    "a.next"
   ]
  },
  {
   "cell_type": "code",
   "execution_count": 42,
   "id": "3d932875",
   "metadata": {},
   "outputs": [],
   "source": [
    "b = Node()"
   ]
  },
  {
   "cell_type": "code",
   "execution_count": 43,
   "id": "856b1e5d",
   "metadata": {},
   "outputs": [],
   "source": [
    "b.name"
   ]
  },
  {
   "cell_type": "code",
   "execution_count": 44,
   "id": "01dec36a",
   "metadata": {},
   "outputs": [],
   "source": [
    "b.next"
   ]
  },
  {
   "cell_type": "code",
   "execution_count": 45,
   "id": "cac72c1a",
   "metadata": {},
   "outputs": [
    {
     "data": {
      "text/plain": [
       "<__main__.Node at 0x2633b3129a0>"
      ]
     },
     "execution_count": 45,
     "metadata": {},
     "output_type": "execute_result"
    }
   ],
   "source": [
    "db"
   ]
  },
  {
   "cell_type": "code",
   "execution_count": 46,
   "id": "da417576",
   "metadata": {},
   "outputs": [
    {
     "data": {
      "text/plain": [
       "<__main__.Node at 0x2633b59deb0>"
      ]
     },
     "execution_count": 46,
     "metadata": {},
     "output_type": "execute_result"
    }
   ],
   "source": [
    "a"
   ]
  },
  {
   "cell_type": "code",
   "execution_count": 47,
   "id": "5dc16510",
   "metadata": {},
   "outputs": [
    {
     "data": {
      "text/plain": [
       "<__main__.Node at 0x2633b32e2b0>"
      ]
     },
     "execution_count": 47,
     "metadata": {},
     "output_type": "execute_result"
    }
   ],
   "source": [
    "b"
   ]
  },
  {
   "cell_type": "code",
   "execution_count": 49,
   "id": "5477245b",
   "metadata": {},
   "outputs": [],
   "source": [
    "db.name = \"vimal\""
   ]
  },
  {
   "cell_type": "code",
   "execution_count": 50,
   "id": "084d3923",
   "metadata": {},
   "outputs": [
    {
     "data": {
      "text/plain": [
       "'vimal'"
      ]
     },
     "execution_count": 50,
     "metadata": {},
     "output_type": "execute_result"
    }
   ],
   "source": [
    "db.name"
   ]
  },
  {
   "cell_type": "code",
   "execution_count": 51,
   "id": "4286f460",
   "metadata": {},
   "outputs": [],
   "source": [
    "db.next"
   ]
  },
  {
   "cell_type": "code",
   "execution_count": 52,
   "id": "6056d8b5",
   "metadata": {},
   "outputs": [
    {
     "data": {
      "text/plain": [
       "<__main__.Node at 0x2633b59deb0>"
      ]
     },
     "execution_count": 52,
     "metadata": {},
     "output_type": "execute_result"
    }
   ],
   "source": [
    "a"
   ]
  },
  {
   "cell_type": "code",
   "execution_count": 54,
   "id": "f43cff56",
   "metadata": {},
   "outputs": [
    {
     "data": {
      "text/plain": [
       "'vimal'"
      ]
     },
     "execution_count": 54,
     "metadata": {},
     "output_type": "execute_result"
    }
   ],
   "source": [
    "db.name"
   ]
  },
  {
   "cell_type": "code",
   "execution_count": 56,
   "id": "0936478f",
   "metadata": {},
   "outputs": [],
   "source": [
    "db.next = a"
   ]
  },
  {
   "cell_type": "code",
   "execution_count": 57,
   "id": "2deecdde",
   "metadata": {},
   "outputs": [
    {
     "data": {
      "text/plain": [
       "<__main__.Node at 0x2633b59deb0>"
      ]
     },
     "execution_count": 57,
     "metadata": {},
     "output_type": "execute_result"
    }
   ],
   "source": [
    "a"
   ]
  },
  {
   "cell_type": "code",
   "execution_count": 58,
   "id": "4ab4d1f1",
   "metadata": {},
   "outputs": [
    {
     "data": {
      "text/plain": [
       "<__main__.Node at 0x2633b59deb0>"
      ]
     },
     "execution_count": 58,
     "metadata": {},
     "output_type": "execute_result"
    }
   ],
   "source": [
    "db.next"
   ]
  },
  {
   "cell_type": "code",
   "execution_count": 59,
   "id": "45f0281e",
   "metadata": {},
   "outputs": [
    {
     "data": {
      "text/plain": [
       "<__main__.Node at 0x2633b59deb0>"
      ]
     },
     "execution_count": 59,
     "metadata": {},
     "output_type": "execute_result"
    }
   ],
   "source": [
    "a"
   ]
  },
  {
   "cell_type": "code",
   "execution_count": 60,
   "id": "eda0a191",
   "metadata": {},
   "outputs": [
    {
     "data": {
      "text/plain": [
       "<__main__.Node at 0x2633b59deb0>"
      ]
     },
     "execution_count": 60,
     "metadata": {},
     "output_type": "execute_result"
    }
   ],
   "source": [
    "db.next"
   ]
  },
  {
   "cell_type": "code",
   "execution_count": 61,
   "id": "ecf40566",
   "metadata": {},
   "outputs": [
    {
     "data": {
      "text/plain": [
       "<__main__.Node at 0x2633b3129a0>"
      ]
     },
     "execution_count": 61,
     "metadata": {},
     "output_type": "execute_result"
    }
   ],
   "source": [
    "db"
   ]
  },
  {
   "cell_type": "code",
   "execution_count": 62,
   "id": "2a0e9d74",
   "metadata": {},
   "outputs": [
    {
     "data": {
      "text/plain": [
       "<__main__.Node at 0x2633b59deb0>"
      ]
     },
     "execution_count": 62,
     "metadata": {},
     "output_type": "execute_result"
    }
   ],
   "source": [
    "db.next"
   ]
  },
  {
   "cell_type": "code",
   "execution_count": 64,
   "id": "7213a423",
   "metadata": {},
   "outputs": [],
   "source": [
    "db.next.name = \"pop\""
   ]
  },
  {
   "cell_type": "code",
   "execution_count": 65,
   "id": "e1118663",
   "metadata": {},
   "outputs": [
    {
     "data": {
      "text/plain": [
       "'pop'"
      ]
     },
     "execution_count": 65,
     "metadata": {},
     "output_type": "execute_result"
    }
   ],
   "source": [
    "db.next.name"
   ]
  },
  {
   "cell_type": "code",
   "execution_count": 66,
   "id": "7710fcf8",
   "metadata": {},
   "outputs": [
    {
     "data": {
      "text/plain": [
       "'pop'"
      ]
     },
     "execution_count": 66,
     "metadata": {},
     "output_type": "execute_result"
    }
   ],
   "source": [
    "a.name"
   ]
  },
  {
   "cell_type": "code",
   "execution_count": 69,
   "id": "ecabedf2",
   "metadata": {},
   "outputs": [],
   "source": [
    "db.next.next = b"
   ]
  },
  {
   "cell_type": "code",
   "execution_count": 70,
   "id": "9ae6c6f2",
   "metadata": {},
   "outputs": [
    {
     "data": {
      "text/plain": [
       "<__main__.Node at 0x2633b32e2b0>"
      ]
     },
     "execution_count": 70,
     "metadata": {},
     "output_type": "execute_result"
    }
   ],
   "source": [
    "db.next.next"
   ]
  },
  {
   "cell_type": "code",
   "execution_count": 72,
   "id": "727a0bbb",
   "metadata": {},
   "outputs": [],
   "source": [
    "db.next.next.name = \"tom\""
   ]
  },
  {
   "cell_type": "code",
   "execution_count": 73,
   "id": "aa37718a",
   "metadata": {},
   "outputs": [
    {
     "data": {
      "text/plain": [
       "'tom'"
      ]
     },
     "execution_count": 73,
     "metadata": {},
     "output_type": "execute_result"
    }
   ],
   "source": [
    "db.next.next.name"
   ]
  },
  {
   "cell_type": "code",
   "execution_count": null,
   "id": "da790df9",
   "metadata": {},
   "outputs": [],
   "source": []
  },
  {
   "cell_type": "code",
   "execution_count": null,
   "id": "4a7e795e",
   "metadata": {},
   "outputs": [],
   "source": []
  },
  {
   "cell_type": "code",
   "execution_count": null,
   "id": "b75ff4e6",
   "metadata": {},
   "outputs": [],
   "source": []
  },
  {
   "cell_type": "code",
   "execution_count": null,
   "id": "a5fc035f",
   "metadata": {},
   "outputs": [],
   "source": []
  },
  {
   "cell_type": "code",
   "execution_count": null,
   "id": "2b022e45",
   "metadata": {},
   "outputs": [],
   "source": []
  },
  {
   "cell_type": "code",
   "execution_count": null,
   "id": "cf010b49",
   "metadata": {},
   "outputs": [],
   "source": []
  },
  {
   "cell_type": "code",
   "execution_count": 75,
   "id": "80129c57",
   "metadata": {},
   "outputs": [
    {
     "data": {
      "text/plain": [
       "'vimal'"
      ]
     },
     "execution_count": 75,
     "metadata": {},
     "output_type": "execute_result"
    }
   ],
   "source": [
    "db.name"
   ]
  },
  {
   "cell_type": "code",
   "execution_count": 76,
   "id": "f46e3eed",
   "metadata": {},
   "outputs": [
    {
     "data": {
      "text/plain": [
       "'pop'"
      ]
     },
     "execution_count": 76,
     "metadata": {},
     "output_type": "execute_result"
    }
   ],
   "source": [
    "db.next.name"
   ]
  },
  {
   "cell_type": "code",
   "execution_count": 77,
   "id": "80f0dfc6",
   "metadata": {},
   "outputs": [
    {
     "data": {
      "text/plain": [
       "'tom'"
      ]
     },
     "execution_count": 77,
     "metadata": {},
     "output_type": "execute_result"
    }
   ],
   "source": [
    "db.next.next.name"
   ]
  },
  {
   "cell_type": "code",
   "execution_count": 78,
   "id": "8b374a0b",
   "metadata": {},
   "outputs": [],
   "source": [
    "c = Node()"
   ]
  },
  {
   "cell_type": "code",
   "execution_count": 80,
   "id": "610faa30",
   "metadata": {},
   "outputs": [],
   "source": [
    "db.next.next.next = c"
   ]
  },
  {
   "cell_type": "code",
   "execution_count": 82,
   "id": "5714b5ad",
   "metadata": {},
   "outputs": [],
   "source": [
    "db.next.next.next.name = \"tom123\""
   ]
  },
  {
   "cell_type": "code",
   "execution_count": null,
   "id": "fef61fe7",
   "metadata": {},
   "outputs": [],
   "source": []
  }
 ],
 "metadata": {
  "kernelspec": {
   "display_name": "Python 3",
   "language": "python",
   "name": "python3"
  },
  "language_info": {
   "codemirror_mode": {
    "name": "ipython",
    "version": 3
   },
   "file_extension": ".py",
   "mimetype": "text/x-python",
   "name": "python",
   "nbconvert_exporter": "python",
   "pygments_lexer": "ipython3",
   "version": "3.8.8"
  }
 },
 "nbformat": 4,
 "nbformat_minor": 5
}
