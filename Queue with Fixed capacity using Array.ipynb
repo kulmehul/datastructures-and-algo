{
 "cells": [
  {
   "cell_type": "code",
   "execution_count": 27,
   "id": "474287a2",
   "metadata": {},
   "outputs": [],
   "source": [
    "class myQueue:\n",
    "    # create queue\n",
    "    # time: O(1)\n",
    "    # space: O(1)\n",
    "    def __init__(self , qlen):\n",
    "        self.maxSize = qlen\n",
    "        self.items = [ None ] * self.maxSize\n",
    "        self.start = -1\n",
    "        self.end = -1\n",
    "\n",
    "    # time : O(1)\n",
    "    def isEmpty(self):\n",
    "        if self.start == -1:\n",
    "            return True\n",
    "        else:\n",
    "            return False\n",
    "     \n",
    "    # time: O(1)\n",
    "    def isFull(self):\n",
    "        # case 1\n",
    "        if self.start == 0 and self.end == self.maxSize - 1:\n",
    "            return True\n",
    "        # case 2\n",
    "        elif self.end == self.start - 1:\n",
    "            return True\n",
    "        else:\n",
    "            return False\n",
    "        \n",
    "    def enqueue(self):\n",
    "        if self.isFull() == False:\n",
    "            print(\"add item in queue\")\n",
    "        else:\n",
    "            print(\"sorry space left ...\")\n",
    "    \n",
    "\n",
    "\n"
   ]
  },
  {
   "cell_type": "code",
   "execution_count": 28,
   "id": "a7500421",
   "metadata": {},
   "outputs": [],
   "source": [
    "counter = myQueue(20)"
   ]
  },
  {
   "cell_type": "code",
   "execution_count": 29,
   "id": "6865fd76",
   "metadata": {},
   "outputs": [
    {
     "data": {
      "text/plain": [
       "20"
      ]
     },
     "execution_count": 29,
     "metadata": {},
     "output_type": "execute_result"
    }
   ],
   "source": [
    "counter.maxSize"
   ]
  },
  {
   "cell_type": "code",
   "execution_count": 30,
   "id": "225dfeba",
   "metadata": {},
   "outputs": [
    {
     "data": {
      "text/plain": [
       "True"
      ]
     },
     "execution_count": 30,
     "metadata": {},
     "output_type": "execute_result"
    }
   ],
   "source": [
    "counter.isEmpty()"
   ]
  },
  {
   "cell_type": "code",
   "execution_count": 31,
   "id": "9e4e814f",
   "metadata": {},
   "outputs": [
    {
     "data": {
      "text/plain": [
       "False"
      ]
     },
     "execution_count": 31,
     "metadata": {},
     "output_type": "execute_result"
    }
   ],
   "source": [
    "counter.isFull()"
   ]
  },
  {
   "cell_type": "code",
   "execution_count": 32,
   "id": "3c3f013f",
   "metadata": {},
   "outputs": [
    {
     "name": "stdout",
     "output_type": "stream",
     "text": [
      "add item in queue\n"
     ]
    }
   ],
   "source": [
    "counter.enqueue()"
   ]
  },
  {
   "cell_type": "code",
   "execution_count": null,
   "id": "874905a3",
   "metadata": {},
   "outputs": [],
   "source": []
  }
 ],
 "metadata": {
  "kernelspec": {
   "display_name": "Python 3",
   "language": "python",
   "name": "python3"
  },
  "language_info": {
   "codemirror_mode": {
    "name": "ipython",
    "version": 3
   },
   "file_extension": ".py",
   "mimetype": "text/x-python",
   "name": "python",
   "nbconvert_exporter": "python",
   "pygments_lexer": "ipython3",
   "version": "3.8.8"
  }
 },
 "nbformat": 4,
 "nbformat_minor": 5
}
