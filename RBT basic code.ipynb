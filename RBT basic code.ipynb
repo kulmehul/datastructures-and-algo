{
 "cells": [
  {
   "cell_type": "code",
   "execution_count": 1,
   "id": "4b05cbc1",
   "metadata": {},
   "outputs": [],
   "source": [
    "class AVLTreeNode:\n",
    "    def __init__(self , data):\n",
    "        self.data = data\n",
    "        self.leftChild = None\n",
    "        self.rightChild = None\n",
    "        self.height = 1"
   ]
  },
  {
   "cell_type": "code",
   "execution_count": 2,
   "id": "94452e0d",
   "metadata": {},
   "outputs": [],
   "source": [
    "def preOrderTraverse(rootNode):\n",
    "        if not rootNode:\n",
    "            return\n",
    "        print(rootNode.data)\n",
    "        preOrderTraverse(rootNode.leftchild)  # step 1\n",
    "        preOrderTraverse(rootNode.rightchild)  # step 2"
   ]
  },
  {
   "cell_type": "code",
   "execution_count": 3,
   "id": "264f33f7",
   "metadata": {},
   "outputs": [],
   "source": [
    "def getHeight(rootNode):\n",
    "        if not rootNode:\n",
    "            return 0\n",
    "        return rootNode.height"
   ]
  },
  {
   "cell_type": "code",
   "execution_count": 5,
   "id": "39001d20",
   "metadata": {},
   "outputs": [],
   "source": [
    "def getBalance(rootNode):\n",
    "    if not rootNode:\n",
    "            return 0\n",
    "    return getHeight(rootNode.leftChild) -  getHeight(rootNode.rightChild)\n",
    "\n",
    "    "
   ]
  },
  {
   "cell_type": "code",
   "execution_count": 7,
   "id": "c28337f5",
   "metadata": {},
   "outputs": [],
   "source": [
    "# 30 - 20 - 10\n",
    "\n",
    "# 20\n",
    "def rightRotation(rootNode):\n",
    "    newRoot = rootNode.leftChild\n",
    "    newRoot.rightChild = rootNode\n",
    "    rootNode.leftChild = None\n",
    "    rootNode.height -= 2\n",
    "    return newRoot"
   ]
  },
  {
   "cell_type": "code",
   "execution_count": 8,
   "id": "39d6adc5",
   "metadata": {},
   "outputs": [],
   "source": [
    "a = AVLTreeNode(30)\n",
    "b = AVLTreeNode(20)\n",
    "c = AVLTreeNode(10)\n"
   ]
  },
  {
   "cell_type": "code",
   "execution_count": 10,
   "id": "e8bf3c82",
   "metadata": {},
   "outputs": [
    {
     "data": {
      "text/plain": [
       "1"
      ]
     },
     "execution_count": 10,
     "metadata": {},
     "output_type": "execute_result"
    }
   ],
   "source": [
    "b.height"
   ]
  },
  {
   "cell_type": "code",
   "execution_count": 13,
   "id": "28fcb6eb",
   "metadata": {},
   "outputs": [
    {
     "data": {
      "text/plain": [
       "{'data': 30,\n",
       " 'leftChild': <__main__.AVLTreeNode at 0x27032999e20>,\n",
       " 'rightChild': None,\n",
       " 'height': 1}"
      ]
     },
     "execution_count": 13,
     "metadata": {},
     "output_type": "execute_result"
    }
   ],
   "source": [
    "a.__dict__"
   ]
  },
  {
   "cell_type": "code",
   "execution_count": 12,
   "id": "8b21f849",
   "metadata": {},
   "outputs": [],
   "source": [
    "a.leftChild = b"
   ]
  },
  {
   "cell_type": "code",
   "execution_count": 20,
   "id": "a2fdef06",
   "metadata": {},
   "outputs": [
    {
     "data": {
      "text/plain": [
       "{'data': 20,\n",
       " 'leftChild': <__main__.AVLTreeNode at 0x27032999bb0>,\n",
       " 'rightChild': None,\n",
       " 'height': 1}"
      ]
     },
     "execution_count": 20,
     "metadata": {},
     "output_type": "execute_result"
    }
   ],
   "source": [
    "b.__dict__"
   ]
  },
  {
   "cell_type": "code",
   "execution_count": 22,
   "id": "affd88b0",
   "metadata": {},
   "outputs": [],
   "source": [
    "a.height += 1"
   ]
  },
  {
   "cell_type": "code",
   "execution_count": 23,
   "id": "4b685bf7",
   "metadata": {},
   "outputs": [
    {
     "data": {
      "text/plain": [
       "2"
      ]
     },
     "execution_count": 23,
     "metadata": {},
     "output_type": "execute_result"
    }
   ],
   "source": [
    "a.height"
   ]
  },
  {
   "cell_type": "code",
   "execution_count": 15,
   "id": "7bb828e5",
   "metadata": {},
   "outputs": [],
   "source": [
    "b.leftChild = c"
   ]
  },
  {
   "cell_type": "code",
   "execution_count": 19,
   "id": "a5d95626",
   "metadata": {},
   "outputs": [
    {
     "data": {
      "text/plain": [
       "1"
      ]
     },
     "execution_count": 19,
     "metadata": {},
     "output_type": "execute_result"
    }
   ],
   "source": [
    "getBalance(a)"
   ]
  },
  {
   "cell_type": "code",
   "execution_count": 24,
   "id": "4f339995",
   "metadata": {},
   "outputs": [],
   "source": [
    "b.height += 1"
   ]
  },
  {
   "cell_type": "code",
   "execution_count": 25,
   "id": "aebaac01",
   "metadata": {},
   "outputs": [],
   "source": [
    "a.height += 1"
   ]
  },
  {
   "cell_type": "code",
   "execution_count": 29,
   "id": "dd5ecac0",
   "metadata": {},
   "outputs": [
    {
     "data": {
      "text/plain": [
       "2"
      ]
     },
     "execution_count": 29,
     "metadata": {},
     "output_type": "execute_result"
    }
   ],
   "source": [
    "getBalance(a)"
   ]
  },
  {
   "cell_type": "code",
   "execution_count": 39,
   "id": "13dc125f",
   "metadata": {},
   "outputs": [
    {
     "data": {
      "text/plain": [
       "1"
      ]
     },
     "execution_count": 39,
     "metadata": {},
     "output_type": "execute_result"
    }
   ],
   "source": [
    "a.height"
   ]
  },
  {
   "cell_type": "code",
   "execution_count": 40,
   "id": "132da4b8",
   "metadata": {},
   "outputs": [
    {
     "data": {
      "text/plain": [
       "2"
      ]
     },
     "execution_count": 40,
     "metadata": {},
     "output_type": "execute_result"
    }
   ],
   "source": [
    "b.height"
   ]
  },
  {
   "cell_type": "code",
   "execution_count": 41,
   "id": "6a75fa34",
   "metadata": {},
   "outputs": [
    {
     "data": {
      "text/plain": [
       "1"
      ]
     },
     "execution_count": 41,
     "metadata": {},
     "output_type": "execute_result"
    }
   ],
   "source": [
    "c.height"
   ]
  },
  {
   "cell_type": "code",
   "execution_count": 42,
   "id": "4b40a9f7",
   "metadata": {},
   "outputs": [
    {
     "ename": "AttributeError",
     "evalue": "'NoneType' object has no attribute 'data'",
     "output_type": "error",
     "traceback": [
      "\u001b[1;31m---------------------------------------------------------------------------\u001b[0m",
      "\u001b[1;31mAttributeError\u001b[0m                            Traceback (most recent call last)",
      "\u001b[1;32m<ipython-input-42-e4e65b61db42>\u001b[0m in \u001b[0;36m<module>\u001b[1;34m\u001b[0m\n\u001b[1;32m----> 1\u001b[1;33m \u001b[0ma\u001b[0m\u001b[1;33m.\u001b[0m\u001b[0mleftChild\u001b[0m\u001b[1;33m.\u001b[0m\u001b[0mdata\u001b[0m\u001b[1;33m\u001b[0m\u001b[1;33m\u001b[0m\u001b[0m\n\u001b[0m",
      "\u001b[1;31mAttributeError\u001b[0m: 'NoneType' object has no attribute 'data'"
     ]
    }
   ],
   "source": [
    "a.leftChild.data"
   ]
  },
  {
   "cell_type": "code",
   "execution_count": 34,
   "id": "1de1f0e3",
   "metadata": {},
   "outputs": [
    {
     "data": {
      "text/plain": [
       "10"
      ]
     },
     "execution_count": 34,
     "metadata": {},
     "output_type": "execute_result"
    }
   ],
   "source": [
    "b.leftChild.data"
   ]
  },
  {
   "cell_type": "code",
   "execution_count": 43,
   "id": "6d94240f",
   "metadata": {},
   "outputs": [
    {
     "data": {
      "text/plain": [
       "30"
      ]
     },
     "execution_count": 43,
     "metadata": {},
     "output_type": "execute_result"
    }
   ],
   "source": [
    "b.rightChild.data"
   ]
  },
  {
   "cell_type": "code",
   "execution_count": 44,
   "id": "dcf97e1a",
   "metadata": {},
   "outputs": [
    {
     "ename": "AttributeError",
     "evalue": "'NoneType' object has no attribute 'rightChild'",
     "output_type": "error",
     "traceback": [
      "\u001b[1;31m---------------------------------------------------------------------------\u001b[0m",
      "\u001b[1;31mAttributeError\u001b[0m                            Traceback (most recent call last)",
      "\u001b[1;32m<ipython-input-44-2649a0508ad8>\u001b[0m in \u001b[0;36m<module>\u001b[1;34m\u001b[0m\n\u001b[1;32m----> 1\u001b[1;33m \u001b[0mnewbalancedTree\u001b[0m \u001b[1;33m=\u001b[0m \u001b[0mrightRotation\u001b[0m\u001b[1;33m(\u001b[0m\u001b[0ma\u001b[0m\u001b[1;33m)\u001b[0m\u001b[1;33m\u001b[0m\u001b[1;33m\u001b[0m\u001b[0m\n\u001b[0m",
      "\u001b[1;32m<ipython-input-7-0096abccc9d9>\u001b[0m in \u001b[0;36mrightRotation\u001b[1;34m(rootNode)\u001b[0m\n\u001b[0;32m      4\u001b[0m \u001b[1;32mdef\u001b[0m \u001b[0mrightRotation\u001b[0m\u001b[1;33m(\u001b[0m\u001b[0mrootNode\u001b[0m\u001b[1;33m)\u001b[0m\u001b[1;33m:\u001b[0m\u001b[1;33m\u001b[0m\u001b[1;33m\u001b[0m\u001b[0m\n\u001b[0;32m      5\u001b[0m     \u001b[0mnewRoot\u001b[0m \u001b[1;33m=\u001b[0m \u001b[0mrootNode\u001b[0m\u001b[1;33m.\u001b[0m\u001b[0mleftChild\u001b[0m\u001b[1;33m\u001b[0m\u001b[1;33m\u001b[0m\u001b[0m\n\u001b[1;32m----> 6\u001b[1;33m     \u001b[0mnewRoot\u001b[0m\u001b[1;33m.\u001b[0m\u001b[0mrightChild\u001b[0m \u001b[1;33m=\u001b[0m \u001b[0mrootNode\u001b[0m\u001b[1;33m\u001b[0m\u001b[1;33m\u001b[0m\u001b[0m\n\u001b[0m\u001b[0;32m      7\u001b[0m     \u001b[0mrootNode\u001b[0m\u001b[1;33m.\u001b[0m\u001b[0mleftChild\u001b[0m \u001b[1;33m=\u001b[0m \u001b[1;32mNone\u001b[0m\u001b[1;33m\u001b[0m\u001b[1;33m\u001b[0m\u001b[0m\n\u001b[0;32m      8\u001b[0m     \u001b[0mrootNode\u001b[0m\u001b[1;33m.\u001b[0m\u001b[0mheight\u001b[0m \u001b[1;33m-=\u001b[0m \u001b[1;36m2\u001b[0m\u001b[1;33m\u001b[0m\u001b[1;33m\u001b[0m\u001b[0m\n",
      "\u001b[1;31mAttributeError\u001b[0m: 'NoneType' object has no attribute 'rightChild'"
     ]
    }
   ],
   "source": [
    "newbalancedTree = rightRotation(a)"
   ]
  },
  {
   "cell_type": "code",
   "execution_count": null,
   "id": "89451613",
   "metadata": {},
   "outputs": [],
   "source": []
  }
 ],
 "metadata": {
  "kernelspec": {
   "display_name": "Python 3",
   "language": "python",
   "name": "python3"
  },
  "language_info": {
   "codemirror_mode": {
    "name": "ipython",
    "version": 3
   },
   "file_extension": ".py",
   "mimetype": "text/x-python",
   "name": "python",
   "nbconvert_exporter": "python",
   "pygments_lexer": "ipython3",
   "version": "3.8.8"
  }
 },
 "nbformat": 4,
 "nbformat_minor": 5
}
