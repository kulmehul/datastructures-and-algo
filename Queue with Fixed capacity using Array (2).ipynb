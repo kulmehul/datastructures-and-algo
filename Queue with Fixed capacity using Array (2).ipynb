{
 "cells": [
  {
   "cell_type": "code",
   "execution_count": 158,
   "id": "474287a2",
   "metadata": {},
   "outputs": [],
   "source": [
    "class myQueue:\n",
    "    # create queue\n",
    "    # time: O(1)\n",
    "    # space: O(1)\n",
    "    def __init__(self , qlen):\n",
    "        self.maxSize = qlen\n",
    "        self.items = [ None ] * self.maxSize\n",
    "        self.start = -1\n",
    "        self.end = -1\n",
    "\n",
    "    # time : O(1)\n",
    "    def isEmpty(self):\n",
    "        if self.start == -1:\n",
    "            return True\n",
    "        else:\n",
    "            return False\n",
    "     \n",
    "    # time: O(1)\n",
    "    def isFull(self):\n",
    "        # case 1\n",
    "        if self.start == 0 and self.end == self.maxSize - 1:\n",
    "            return True\n",
    "        # case 2\n",
    "        elif self.end == self.start - 1:\n",
    "            return True\n",
    "        else:\n",
    "            return False\n",
    "      \n",
    "    # time / space : O(1)\n",
    "    def enqueue(self, value):\n",
    "        if self.isFull() == False:\n",
    "            print(\"add item in queue\")\n",
    "            \n",
    "           \n",
    "            # circular space available\n",
    "            if self.end + 1 == self.maxSize:\n",
    "                self.end = 0\n",
    "    \n",
    "            else:\n",
    "            # applicable when queue is empty\n",
    "                if self.start == -1:\n",
    "                    self.start = 0 \n",
    "                self.end = self.end + 1\n",
    "              \n",
    "            # add the items in queue\n",
    "            self.items[self.end] = value\n",
    "            \n",
    "          \n",
    "        else:\n",
    "            print(\"sorry space left ..... error - exception\")\n",
    "    \n",
    "    # time  / space : O(1)\n",
    "    def dequeue(self):\n",
    "        if self.isEmpty():\n",
    "            return \"queue is empty...\"\n",
    "        \n",
    "        firstItem = self.items[ self.start ]\n",
    "        self.items[ self.start ] = None\n",
    "        \n",
    "       \n",
    "        # entire queue is now empty\n",
    "        if self.start == self.end:\n",
    "            self.start = -1\n",
    "            self.end = -1\n",
    "            \n",
    "        elif self.start + 1 == self.maxSize:\n",
    "            self.start = 0\n",
    "        else:\n",
    "            self.start += 1\n",
    "            \n",
    "        \n",
    "        return firstItem\n",
    "    \n",
    "     \n",
    "    # time : O(n)\n",
    "    def printQueue(self):\n",
    "        for i in self.items:\n",
    "            print(i)\n",
    "\n",
    "\n",
    "    def peek(self):\n",
    "        if self.isEmpty():\n",
    "            return \"i m empty...\"\n",
    "        else:\n",
    "            return self.items[ self.start ]\n",
    "\n",
    "    def delete(self):\n",
    "        self.items = None"
   ]
  },
  {
   "cell_type": "code",
   "execution_count": 159,
   "id": "a7500421",
   "metadata": {},
   "outputs": [],
   "source": [
    "counter = myQueue(5)"
   ]
  },
  {
   "cell_type": "code",
   "execution_count": 130,
   "id": "6865fd76",
   "metadata": {},
   "outputs": [
    {
     "data": {
      "text/plain": [
       "5"
      ]
     },
     "execution_count": 130,
     "metadata": {},
     "output_type": "execute_result"
    }
   ],
   "source": [
    "counter.maxSize"
   ]
  },
  {
   "cell_type": "code",
   "execution_count": 131,
   "id": "95ca6e55",
   "metadata": {},
   "outputs": [
    {
     "data": {
      "text/plain": [
       "[None, None, None, None, None]"
      ]
     },
     "execution_count": 131,
     "metadata": {},
     "output_type": "execute_result"
    }
   ],
   "source": [
    "counter.items"
   ]
  },
  {
   "cell_type": "code",
   "execution_count": 163,
   "id": "679d1b93",
   "metadata": {},
   "outputs": [
    {
     "ename": "TypeError",
     "evalue": "'NoneType' object is not iterable",
     "output_type": "error",
     "traceback": [
      "\u001b[1;31m---------------------------------------------------------------------------\u001b[0m",
      "\u001b[1;31mTypeError\u001b[0m                                 Traceback (most recent call last)",
      "\u001b[1;32m<ipython-input-163-c768c05e4a4f>\u001b[0m in \u001b[0;36m<module>\u001b[1;34m\u001b[0m\n\u001b[1;32m----> 1\u001b[1;33m \u001b[0mcounter\u001b[0m\u001b[1;33m.\u001b[0m\u001b[0mprintQueue\u001b[0m\u001b[1;33m(\u001b[0m\u001b[1;33m)\u001b[0m\u001b[1;33m\u001b[0m\u001b[1;33m\u001b[0m\u001b[0m\n\u001b[0m",
      "\u001b[1;32m<ipython-input-158-4ec4d7edf631>\u001b[0m in \u001b[0;36mprintQueue\u001b[1;34m(self)\u001b[0m\n\u001b[0;32m     75\u001b[0m     \u001b[1;31m# time : O(n)\u001b[0m\u001b[1;33m\u001b[0m\u001b[1;33m\u001b[0m\u001b[1;33m\u001b[0m\u001b[0m\n\u001b[0;32m     76\u001b[0m     \u001b[1;32mdef\u001b[0m \u001b[0mprintQueue\u001b[0m\u001b[1;33m(\u001b[0m\u001b[0mself\u001b[0m\u001b[1;33m)\u001b[0m\u001b[1;33m:\u001b[0m\u001b[1;33m\u001b[0m\u001b[1;33m\u001b[0m\u001b[0m\n\u001b[1;32m---> 77\u001b[1;33m         \u001b[1;32mfor\u001b[0m \u001b[0mi\u001b[0m \u001b[1;32min\u001b[0m \u001b[0mself\u001b[0m\u001b[1;33m.\u001b[0m\u001b[0mitems\u001b[0m\u001b[1;33m:\u001b[0m\u001b[1;33m\u001b[0m\u001b[1;33m\u001b[0m\u001b[0m\n\u001b[0m\u001b[0;32m     78\u001b[0m             \u001b[0mprint\u001b[0m\u001b[1;33m(\u001b[0m\u001b[0mi\u001b[0m\u001b[1;33m)\u001b[0m\u001b[1;33m\u001b[0m\u001b[1;33m\u001b[0m\u001b[0m\n\u001b[0;32m     79\u001b[0m \u001b[1;33m\u001b[0m\u001b[0m\n",
      "\u001b[1;31mTypeError\u001b[0m: 'NoneType' object is not iterable"
     ]
    }
   ],
   "source": [
    "counter.printQueue()"
   ]
  },
  {
   "cell_type": "code",
   "execution_count": 162,
   "id": "5f7751da",
   "metadata": {},
   "outputs": [],
   "source": [
    "counter.delete()"
   ]
  },
  {
   "cell_type": "code",
   "execution_count": 156,
   "id": "de4c3e48",
   "metadata": {},
   "outputs": [
    {
     "data": {
      "text/plain": [
       "'a'"
      ]
     },
     "execution_count": 156,
     "metadata": {},
     "output_type": "execute_result"
    }
   ],
   "source": [
    "counter.peek()"
   ]
  },
  {
   "cell_type": "code",
   "execution_count": 147,
   "id": "225dfeba",
   "metadata": {},
   "outputs": [
    {
     "data": {
      "text/plain": [
       "True"
      ]
     },
     "execution_count": 147,
     "metadata": {},
     "output_type": "execute_result"
    }
   ],
   "source": [
    "counter.isEmpty()"
   ]
  },
  {
   "cell_type": "code",
   "execution_count": 145,
   "id": "dc154a98",
   "metadata": {},
   "outputs": [
    {
     "data": {
      "text/plain": [
       "'queue is empty...'"
      ]
     },
     "execution_count": 145,
     "metadata": {},
     "output_type": "execute_result"
    }
   ],
   "source": [
    "counter.dequeue()\n",
    "#counter.dequeue()\n",
    "#counter.dequeue()"
   ]
  },
  {
   "cell_type": "code",
   "execution_count": 149,
   "id": "43ac4bcd",
   "metadata": {},
   "outputs": [
    {
     "name": "stdout",
     "output_type": "stream",
     "text": [
      "-1\n",
      "-1\n"
     ]
    }
   ],
   "source": [
    "print(counter.start)\n",
    "print(counter.end)"
   ]
  },
  {
   "cell_type": "code",
   "execution_count": 81,
   "id": "73c96b6e",
   "metadata": {},
   "outputs": [
    {
     "data": {
      "text/plain": [
       "2"
      ]
     },
     "execution_count": 81,
     "metadata": {},
     "output_type": "execute_result"
    }
   ],
   "source": [
    "counter.end"
   ]
  },
  {
   "cell_type": "code",
   "execution_count": 146,
   "id": "9e4e814f",
   "metadata": {},
   "outputs": [
    {
     "data": {
      "text/plain": [
       "False"
      ]
     },
     "execution_count": 146,
     "metadata": {},
     "output_type": "execute_result"
    }
   ],
   "source": [
    "counter.isFull()"
   ]
  },
  {
   "cell_type": "code",
   "execution_count": 160,
   "id": "3c3f013f",
   "metadata": {},
   "outputs": [
    {
     "name": "stdout",
     "output_type": "stream",
     "text": [
      "add item in queue\n",
      "add item in queue\n",
      "add item in queue\n"
     ]
    }
   ],
   "source": [
    "counter.enqueue(\"a\")\n",
    "counter.enqueue(\"b\")\n",
    "counter.enqueue(\"c\")"
   ]
  },
  {
   "cell_type": "code",
   "execution_count": 32,
   "id": "874905a3",
   "metadata": {},
   "outputs": [
    {
     "data": {
      "text/plain": [
       "True"
      ]
     },
     "execution_count": 32,
     "metadata": {},
     "output_type": "execute_result"
    }
   ],
   "source": [
    "counter.isFull()"
   ]
  },
  {
   "cell_type": "code",
   "execution_count": 138,
   "id": "35877b0b",
   "metadata": {},
   "outputs": [
    {
     "name": "stdout",
     "output_type": "stream",
     "text": [
      "add item in queue\n"
     ]
    }
   ],
   "source": [
    "counter.enqueue(\"d\")"
   ]
  },
  {
   "cell_type": "code",
   "execution_count": null,
   "id": "e62fc37c",
   "metadata": {},
   "outputs": [],
   "source": []
  }
 ],
 "metadata": {
  "kernelspec": {
   "display_name": "Python 3",
   "language": "python",
   "name": "python3"
  },
  "language_info": {
   "codemirror_mode": {
    "name": "ipython",
    "version": 3
   },
   "file_extension": ".py",
   "mimetype": "text/x-python",
   "name": "python",
   "nbconvert_exporter": "python",
   "pygments_lexer": "ipython3",
   "version": "3.8.8"
  }
 },
 "nbformat": 4,
 "nbformat_minor": 5
}
