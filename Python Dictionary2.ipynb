{
 "cells": [
  {
   "cell_type": "code",
   "execution_count": 1,
   "id": "47c68b7a",
   "metadata": {},
   "outputs": [],
   "source": [
    "a = {}"
   ]
  },
  {
   "cell_type": "code",
   "execution_count": 2,
   "id": "c15e5c00",
   "metadata": {},
   "outputs": [
    {
     "data": {
      "text/plain": [
       "dict"
      ]
     },
     "execution_count": 2,
     "metadata": {},
     "output_type": "execute_result"
    }
   ],
   "source": [
    "type(a)"
   ]
  },
  {
   "cell_type": "code",
   "execution_count": 3,
   "id": "0a180f46",
   "metadata": {},
   "outputs": [
    {
     "data": {
      "text/plain": [
       "{}"
      ]
     },
     "execution_count": 3,
     "metadata": {},
     "output_type": "execute_result"
    }
   ],
   "source": [
    "a"
   ]
  },
  {
   "cell_type": "code",
   "execution_count": 4,
   "id": "45147ed3",
   "metadata": {},
   "outputs": [
    {
     "data": {
      "text/plain": [
       "['__class__',\n",
       " '__contains__',\n",
       " '__delattr__',\n",
       " '__delitem__',\n",
       " '__dir__',\n",
       " '__doc__',\n",
       " '__eq__',\n",
       " '__format__',\n",
       " '__ge__',\n",
       " '__getattribute__',\n",
       " '__getitem__',\n",
       " '__gt__',\n",
       " '__hash__',\n",
       " '__init__',\n",
       " '__init_subclass__',\n",
       " '__iter__',\n",
       " '__le__',\n",
       " '__len__',\n",
       " '__lt__',\n",
       " '__ne__',\n",
       " '__new__',\n",
       " '__reduce__',\n",
       " '__reduce_ex__',\n",
       " '__repr__',\n",
       " '__reversed__',\n",
       " '__setattr__',\n",
       " '__setitem__',\n",
       " '__sizeof__',\n",
       " '__str__',\n",
       " '__subclasshook__',\n",
       " 'clear',\n",
       " 'copy',\n",
       " 'fromkeys',\n",
       " 'get',\n",
       " 'items',\n",
       " 'keys',\n",
       " 'pop',\n",
       " 'popitem',\n",
       " 'setdefault',\n",
       " 'update',\n",
       " 'values']"
      ]
     },
     "execution_count": 4,
     "metadata": {},
     "output_type": "execute_result"
    }
   ],
   "source": [
    "dir(a)"
   ]
  },
  {
   "cell_type": "code",
   "execution_count": 5,
   "id": "f1bd46d8",
   "metadata": {},
   "outputs": [
    {
     "data": {
      "text/plain": [
       "{}"
      ]
     },
     "execution_count": 5,
     "metadata": {},
     "output_type": "execute_result"
    }
   ],
   "source": [
    "a"
   ]
  },
  {
   "cell_type": "code",
   "execution_count": 6,
   "id": "59321ab2",
   "metadata": {},
   "outputs": [],
   "source": [
    "a[12345] = \"vimal\""
   ]
  },
  {
   "cell_type": "code",
   "execution_count": 7,
   "id": "99229eaa",
   "metadata": {},
   "outputs": [
    {
     "data": {
      "text/plain": [
       "{12345: 'vimal'}"
      ]
     },
     "execution_count": 7,
     "metadata": {},
     "output_type": "execute_result"
    }
   ],
   "source": [
    "a"
   ]
  },
  {
   "cell_type": "code",
   "execution_count": 8,
   "id": "b2d2c2a8",
   "metadata": {},
   "outputs": [],
   "source": [
    "a[22222] = \"rahul\""
   ]
  },
  {
   "cell_type": "code",
   "execution_count": 9,
   "id": "b18db759",
   "metadata": {},
   "outputs": [
    {
     "data": {
      "text/plain": [
       "{12345: 'vimal', 22222: 'rahul'}"
      ]
     },
     "execution_count": 9,
     "metadata": {},
     "output_type": "execute_result"
    }
   ],
   "source": [
    "a"
   ]
  },
  {
   "cell_type": "code",
   "execution_count": 10,
   "id": "41668cbd",
   "metadata": {},
   "outputs": [],
   "source": [
    "a[11111] = \"yash\""
   ]
  },
  {
   "cell_type": "code",
   "execution_count": 11,
   "id": "ab99604d",
   "metadata": {},
   "outputs": [
    {
     "data": {
      "text/plain": [
       "{12345: 'vimal', 22222: 'rahul', 11111: 'yash'}"
      ]
     },
     "execution_count": 11,
     "metadata": {},
     "output_type": "execute_result"
    }
   ],
   "source": [
    "a"
   ]
  },
  {
   "cell_type": "code",
   "execution_count": 12,
   "id": "a69b5713",
   "metadata": {},
   "outputs": [],
   "source": [
    "b = {12345: 'vimal', 22222: 'rahul', 11111: 'yash'}"
   ]
  },
  {
   "cell_type": "code",
   "execution_count": 13,
   "id": "e6e0bec6",
   "metadata": {},
   "outputs": [
    {
     "data": {
      "text/plain": [
       "{12345: 'vimal', 22222: 'rahul', 11111: 'yash'}"
      ]
     },
     "execution_count": 13,
     "metadata": {},
     "output_type": "execute_result"
    }
   ],
   "source": [
    "b"
   ]
  },
  {
   "cell_type": "code",
   "execution_count": 14,
   "id": "4aff539c",
   "metadata": {},
   "outputs": [
    {
     "data": {
      "text/plain": [
       "dict_keys([12345, 22222, 11111])"
      ]
     },
     "execution_count": 14,
     "metadata": {},
     "output_type": "execute_result"
    }
   ],
   "source": [
    "b.keys()"
   ]
  },
  {
   "cell_type": "code",
   "execution_count": 15,
   "id": "9926b00a",
   "metadata": {},
   "outputs": [
    {
     "data": {
      "text/plain": [
       "dict_values(['vimal', 'rahul', 'yash'])"
      ]
     },
     "execution_count": 15,
     "metadata": {},
     "output_type": "execute_result"
    }
   ],
   "source": [
    "b.values()"
   ]
  },
  {
   "cell_type": "code",
   "execution_count": 16,
   "id": "a6f62093",
   "metadata": {},
   "outputs": [],
   "source": [
    "c = {}"
   ]
  },
  {
   "cell_type": "code",
   "execution_count": 25,
   "id": "5989d343",
   "metadata": {},
   "outputs": [
    {
     "data": {
      "text/plain": [
       "{12345: 'vimal', 22222: 'rahul', 11111: 'yash'}"
      ]
     },
     "execution_count": 25,
     "metadata": {},
     "output_type": "execute_result"
    }
   ],
   "source": [
    "b"
   ]
  },
  {
   "cell_type": "code",
   "execution_count": 28,
   "id": "873ae9e1",
   "metadata": {},
   "outputs": [
    {
     "data": {
      "text/plain": [
       "False"
      ]
     },
     "execution_count": 28,
     "metadata": {},
     "output_type": "execute_result"
    }
   ],
   "source": [
    "11112  in b"
   ]
  },
  {
   "cell_type": "code",
   "execution_count": 29,
   "id": "da5091ef",
   "metadata": {},
   "outputs": [],
   "source": [
    "d = [ 2,4,5,7,8]"
   ]
  },
  {
   "cell_type": "code",
   "execution_count": 31,
   "id": "c4ca6047",
   "metadata": {},
   "outputs": [
    {
     "data": {
      "text/plain": [
       "False"
      ]
     },
     "execution_count": 31,
     "metadata": {},
     "output_type": "execute_result"
    }
   ],
   "source": [
    "50 in d"
   ]
  },
  {
   "cell_type": "code",
   "execution_count": 33,
   "id": "af98efb1",
   "metadata": {},
   "outputs": [],
   "source": [
    "s = \" this is lw\""
   ]
  },
  {
   "cell_type": "code",
   "execution_count": 35,
   "id": "467e06c5",
   "metadata": {},
   "outputs": [
    {
     "data": {
      "text/plain": [
       "False"
      ]
     },
     "execution_count": 35,
     "metadata": {},
     "output_type": "execute_result"
    }
   ],
   "source": [
    "\"v\" in s"
   ]
  },
  {
   "cell_type": "code",
   "execution_count": null,
   "id": "46115972",
   "metadata": {},
   "outputs": [],
   "source": []
  },
  {
   "cell_type": "code",
   "execution_count": 32,
   "id": "18f2bc00",
   "metadata": {},
   "outputs": [],
   "source": [
    "nums = [2,4,11,15]"
   ]
  },
  {
   "cell_type": "code",
   "execution_count": 20,
   "id": "05818df2",
   "metadata": {},
   "outputs": [],
   "source": [
    "targetValue = 16"
   ]
  },
  {
   "cell_type": "code",
   "execution_count": null,
   "id": "56cc815d",
   "metadata": {},
   "outputs": [],
   "source": []
  },
  {
   "cell_type": "code",
   "execution_count": null,
   "id": "71e7cfda",
   "metadata": {},
   "outputs": [],
   "source": []
  },
  {
   "cell_type": "code",
   "execution_count": null,
   "id": "34c208f2",
   "metadata": {},
   "outputs": [],
   "source": []
  },
  {
   "cell_type": "code",
   "execution_count": 24,
   "id": "0f2844bc",
   "metadata": {},
   "outputs": [],
   "source": [
    "ht  = {}"
   ]
  },
  {
   "cell_type": "code",
   "execution_count": 21,
   "id": "a3da78cf",
   "metadata": {},
   "outputs": [],
   "source": [
    "arr = [2,4,-3, 7, 10, 1 , -1 , 6, 3]"
   ]
  },
  {
   "cell_type": "code",
   "execution_count": 45,
   "id": "e5f2fe7d",
   "metadata": {},
   "outputs": [],
   "source": [
    "targetValue = 19"
   ]
  },
  {
   "cell_type": "code",
   "execution_count": 46,
   "id": "f19d1523",
   "metadata": {},
   "outputs": [],
   "source": [
    "# y = targetValue - x"
   ]
  },
  {
   "cell_type": "code",
   "execution_count": 52,
   "id": "1fe7abbf",
   "metadata": {},
   "outputs": [],
   "source": [
    "def tspbyHT(arr, targetValue):\n",
    "    # time O(n)\n",
    "    i=0\n",
    "    for x in arr:\n",
    "        y = targetValue - x\n",
    "        if y in ht:\n",
    "            return( y,x )\n",
    "        else:\n",
    "            # space : O(n)\n",
    "            ht[x] = i\n",
    "        i+=1\n",
    "            \n",
    "    return -1"
   ]
  },
  {
   "cell_type": "code",
   "execution_count": 53,
   "id": "06d87e3e",
   "metadata": {},
   "outputs": [
    {
     "data": {
      "text/plain": [
       "(6, 10)"
      ]
     },
     "execution_count": 53,
     "metadata": {},
     "output_type": "execute_result"
    }
   ],
   "source": [
    "tspbyHT(arr , 16)"
   ]
  },
  {
   "cell_type": "code",
   "execution_count": null,
   "id": "58ed94d3",
   "metadata": {},
   "outputs": [],
   "source": []
  }
 ],
 "metadata": {
  "kernelspec": {
   "display_name": "Python 3",
   "language": "python",
   "name": "python3"
  },
  "language_info": {
   "codemirror_mode": {
    "name": "ipython",
    "version": 3
   },
   "file_extension": ".py",
   "mimetype": "text/x-python",
   "name": "python",
   "nbconvert_exporter": "python",
   "pygments_lexer": "ipython3",
   "version": "3.8.8"
  }
 },
 "nbformat": 4,
 "nbformat_minor": 5
}
