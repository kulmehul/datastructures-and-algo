{
 "cells": [
  {
   "cell_type": "code",
   "execution_count": 9,
   "id": "0279d30f",
   "metadata": {},
   "outputs": [],
   "source": [
    "def lw(a,b,c,d):\n",
    "    i = a + b\n",
    "    j = c - d\n",
    "    return i , j"
   ]
  },
  {
   "cell_type": "code",
   "execution_count": 2,
   "id": "68b5d1a5",
   "metadata": {},
   "outputs": [
    {
     "data": {
      "text/plain": [
       "(3, -1)"
      ]
     },
     "execution_count": 2,
     "metadata": {},
     "output_type": "execute_result"
    }
   ],
   "source": [
    "lw(1,2,3,4)"
   ]
  },
  {
   "cell_type": "code",
   "execution_count": 48,
   "id": "08f62542",
   "metadata": {},
   "outputs": [],
   "source": [
    "# jack  : company xyz\n",
    "# unit of function\n",
    "\n",
    "# unit testing\n",
    "# fix the bug\n",
    "def lwsum(a,b):\n",
    "    i = a + b \n",
    "    return i"
   ]
  },
  {
   "cell_type": "code",
   "execution_count": 49,
   "id": "b4f0ab61",
   "metadata": {},
   "outputs": [],
   "source": [
    "def lwsub(c,d):\n",
    "    j = c - d\n",
    "    return j"
   ]
  },
  {
   "cell_type": "code",
   "execution_count": 50,
   "id": "43e76f74",
   "metadata": {},
   "outputs": [
    {
     "data": {
      "text/plain": [
       "7"
      ]
     },
     "execution_count": 50,
     "metadata": {},
     "output_type": "execute_result"
    }
   ],
   "source": [
    "lwsum(3,4)"
   ]
  },
  {
   "cell_type": "code",
   "execution_count": 51,
   "id": "b1a03fe7",
   "metadata": {},
   "outputs": [
    {
     "data": {
      "text/plain": [
       "6"
      ]
     },
     "execution_count": 51,
     "metadata": {},
     "output_type": "execute_result"
    }
   ],
   "source": [
    "lwsum(2 , 4)"
   ]
  },
  {
   "cell_type": "code",
   "execution_count": 52,
   "id": "3ff704b6",
   "metadata": {},
   "outputs": [
    {
     "name": "stdout",
     "output_type": "stream",
     "text": [
      "hi\n"
     ]
    }
   ],
   "source": [
    "print(\"hi\")"
   ]
  },
  {
   "cell_type": "code",
   "execution_count": 53,
   "id": "5bb82f8c",
   "metadata": {},
   "outputs": [],
   "source": [
    "# test cases  for unit testing"
   ]
  },
  {
   "cell_type": "code",
   "execution_count": 54,
   "id": "626552ae",
   "metadata": {},
   "outputs": [],
   "source": [
    "import unittest"
   ]
  },
  {
   "cell_type": "code",
   "execution_count": 55,
   "id": "3ddd7b79",
   "metadata": {},
   "outputs": [],
   "source": [
    "class mylwclass(unittest.TestCase):\n",
    "    # test case method\n",
    "    def mylw(self):\n",
    "        print(\"for data...\")\n",
    "        # r = lwsum(3,5)\n",
    "        #print(r)\n",
    "        self.assertEqual( lwsum(3,5) , 8,  msg=\"if test fail, contact to LW dev ...\" )  # test case \n",
    "        self.assertEqual( lwsum(2,3) , 5,  msg=\"if test fail, contact to LW dev ...\" )  # test case \n",
    "        \n",
    "    \n",
    "    "
   ]
  },
  {
   "cell_type": "code",
   "execution_count": 56,
   "id": "80fbade5",
   "metadata": {},
   "outputs": [],
   "source": [
    "a = mylwclass()"
   ]
  },
  {
   "cell_type": "code",
   "execution_count": 57,
   "id": "e3ab89b1",
   "metadata": {},
   "outputs": [
    {
     "data": {
      "text/plain": [
       "8"
      ]
     },
     "execution_count": 57,
     "metadata": {},
     "output_type": "execute_result"
    }
   ],
   "source": [
    "lwsum(3,5)"
   ]
  },
  {
   "cell_type": "code",
   "execution_count": 58,
   "id": "d47f386b",
   "metadata": {},
   "outputs": [
    {
     "name": "stdout",
     "output_type": "stream",
     "text": [
      "for data...\n"
     ]
    }
   ],
   "source": [
    "a.mylw()"
   ]
  },
  {
   "cell_type": "code",
   "execution_count": null,
   "id": "7b6a285b",
   "metadata": {},
   "outputs": [],
   "source": []
  }
 ],
 "metadata": {
  "kernelspec": {
   "display_name": "Python 3",
   "language": "python",
   "name": "python3"
  },
  "language_info": {
   "codemirror_mode": {
    "name": "ipython",
    "version": 3
   },
   "file_extension": ".py",
   "mimetype": "text/x-python",
   "name": "python",
   "nbconvert_exporter": "python",
   "pygments_lexer": "ipython3",
   "version": "3.8.8"
  }
 },
 "nbformat": 4,
 "nbformat_minor": 5
}
