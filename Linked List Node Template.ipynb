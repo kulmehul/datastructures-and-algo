{
 "cells": [
  {
   "cell_type": "code",
   "execution_count": 2,
   "id": "24d7c4d1",
   "metadata": {},
   "outputs": [],
   "source": [
    "# def : template : NODE : D L L\n",
    "class Node:\n",
    "    def __init__(self, n):\n",
    "        self.name = n\n",
    "        self.prev = None\n",
    "        self.next = None\n",
    "        "
   ]
  },
  {
   "cell_type": "code",
   "execution_count": null,
   "id": "ab78e836",
   "metadata": {},
   "outputs": [],
   "source": []
  },
  {
   "cell_type": "code",
   "execution_count": 3,
   "id": "d9c00161",
   "metadata": {},
   "outputs": [],
   "source": [
    "o1 = Node(\"ram\")"
   ]
  },
  {
   "cell_type": "code",
   "execution_count": 4,
   "id": "599a11b8",
   "metadata": {},
   "outputs": [],
   "source": [
    "o2 = Node(\"pop\")"
   ]
  },
  {
   "cell_type": "code",
   "execution_count": 5,
   "id": "bcedf3a4",
   "metadata": {},
   "outputs": [],
   "source": [
    "o3 = Node(\"cam\")"
   ]
  },
  {
   "cell_type": "code",
   "execution_count": 6,
   "id": "d5438ef9",
   "metadata": {},
   "outputs": [
    {
     "data": {
      "text/plain": [
       "<__main__.Node at 0x26425f9a5b0>"
      ]
     },
     "execution_count": 6,
     "metadata": {},
     "output_type": "execute_result"
    }
   ],
   "source": [
    "o1"
   ]
  },
  {
   "cell_type": "code",
   "execution_count": 8,
   "id": "45969ffc",
   "metadata": {},
   "outputs": [
    {
     "data": {
      "text/plain": [
       "<__main__.Node at 0x26425fa3b20>"
      ]
     },
     "execution_count": 8,
     "metadata": {},
     "output_type": "execute_result"
    }
   ],
   "source": [
    "o2"
   ]
  },
  {
   "cell_type": "code",
   "execution_count": 28,
   "id": "57a23b7b",
   "metadata": {},
   "outputs": [
    {
     "data": {
      "text/plain": [
       "{'name': 'pop',\n",
       " 'prev': <__main__.Node at 0x26425f9a5b0>,\n",
       " 'next': <__main__.Node at 0x26425fa3490>}"
      ]
     },
     "execution_count": 28,
     "metadata": {},
     "output_type": "execute_result"
    }
   ],
   "source": [
    "o2.__dict__"
   ]
  },
  {
   "cell_type": "code",
   "execution_count": 29,
   "id": "0306b4fd",
   "metadata": {},
   "outputs": [
    {
     "data": {
      "text/plain": [
       "{'name': 'ram', 'prev': None, 'next': <__main__.Node at 0x26425fa3b20>}"
      ]
     },
     "execution_count": 29,
     "metadata": {},
     "output_type": "execute_result"
    }
   ],
   "source": [
    "o1.__dict__"
   ]
  },
  {
   "cell_type": "code",
   "execution_count": 24,
   "id": "0cf666ac",
   "metadata": {},
   "outputs": [
    {
     "data": {
      "text/plain": [
       "{'name': 'cam', 'prev': <__main__.Node at 0x26425fa3b20>, 'next': None}"
      ]
     },
     "execution_count": 24,
     "metadata": {},
     "output_type": "execute_result"
    }
   ],
   "source": [
    "o3.__dict__"
   ]
  },
  {
   "cell_type": "code",
   "execution_count": 12,
   "id": "a221401a",
   "metadata": {},
   "outputs": [
    {
     "data": {
      "text/plain": [
       "'cam'"
      ]
     },
     "execution_count": 12,
     "metadata": {},
     "output_type": "execute_result"
    }
   ],
   "source": [
    "o3.name"
   ]
  },
  {
   "cell_type": "code",
   "execution_count": 13,
   "id": "4d807dc7",
   "metadata": {},
   "outputs": [],
   "source": [
    "db = o1"
   ]
  },
  {
   "cell_type": "code",
   "execution_count": 14,
   "id": "09b7002e",
   "metadata": {},
   "outputs": [
    {
     "data": {
      "text/plain": [
       "<__main__.Node at 0x26425f9a5b0>"
      ]
     },
     "execution_count": 14,
     "metadata": {},
     "output_type": "execute_result"
    }
   ],
   "source": [
    "db"
   ]
  },
  {
   "cell_type": "code",
   "execution_count": 15,
   "id": "0761195e",
   "metadata": {},
   "outputs": [
    {
     "data": {
      "text/plain": [
       "<__main__.Node at 0x26425f9a5b0>"
      ]
     },
     "execution_count": 15,
     "metadata": {},
     "output_type": "execute_result"
    }
   ],
   "source": [
    "db"
   ]
  },
  {
   "cell_type": "code",
   "execution_count": 17,
   "id": "b7291ef6",
   "metadata": {},
   "outputs": [],
   "source": [
    "o1.next = o2"
   ]
  },
  {
   "cell_type": "code",
   "execution_count": 20,
   "id": "01b15357",
   "metadata": {},
   "outputs": [],
   "source": [
    "o2.next = o3"
   ]
  },
  {
   "cell_type": "code",
   "execution_count": 23,
   "id": "933b013f",
   "metadata": {},
   "outputs": [],
   "source": [
    "o3.prev = o2"
   ]
  },
  {
   "cell_type": "code",
   "execution_count": 27,
   "id": "c479d2b7",
   "metadata": {},
   "outputs": [],
   "source": [
    "o2.prev = o1"
   ]
  },
  {
   "cell_type": "code",
   "execution_count": 30,
   "id": "de71f8e2",
   "metadata": {},
   "outputs": [
    {
     "data": {
      "text/plain": [
       "<__main__.Node at 0x26425f9a5b0>"
      ]
     },
     "execution_count": 30,
     "metadata": {},
     "output_type": "execute_result"
    }
   ],
   "source": [
    "db"
   ]
  },
  {
   "cell_type": "code",
   "execution_count": null,
   "id": "afc18869",
   "metadata": {},
   "outputs": [],
   "source": []
  },
  {
   "cell_type": "code",
   "execution_count": 31,
   "id": "bf7f3c80",
   "metadata": {},
   "outputs": [
    {
     "data": {
      "text/plain": [
       "'ram'"
      ]
     },
     "execution_count": 31,
     "metadata": {},
     "output_type": "execute_result"
    }
   ],
   "source": [
    "db.name"
   ]
  },
  {
   "cell_type": "code",
   "execution_count": 33,
   "id": "e8962763",
   "metadata": {},
   "outputs": [
    {
     "data": {
      "text/plain": [
       "'pop'"
      ]
     },
     "execution_count": 33,
     "metadata": {},
     "output_type": "execute_result"
    }
   ],
   "source": [
    "db.next.name"
   ]
  },
  {
   "cell_type": "code",
   "execution_count": 36,
   "id": "ef618b95",
   "metadata": {},
   "outputs": [
    {
     "data": {
      "text/plain": [
       "'cam'"
      ]
     },
     "execution_count": 36,
     "metadata": {},
     "output_type": "execute_result"
    }
   ],
   "source": [
    "db.next.next.name"
   ]
  },
  {
   "cell_type": "code",
   "execution_count": 37,
   "id": "9035ac54",
   "metadata": {},
   "outputs": [
    {
     "data": {
      "text/plain": [
       "<__main__.Node at 0x26425fa3490>"
      ]
     },
     "execution_count": 37,
     "metadata": {},
     "output_type": "execute_result"
    }
   ],
   "source": [
    "db.next.next"
   ]
  },
  {
   "cell_type": "code",
   "execution_count": 40,
   "id": "d9d6a5a0",
   "metadata": {},
   "outputs": [
    {
     "data": {
      "text/plain": [
       "'ram'"
      ]
     },
     "execution_count": 40,
     "metadata": {},
     "output_type": "execute_result"
    }
   ],
   "source": [
    "db.next.next.prev.prev.name"
   ]
  },
  {
   "cell_type": "code",
   "execution_count": 41,
   "id": "1017ad13",
   "metadata": {},
   "outputs": [
    {
     "data": {
      "text/plain": [
       "'ram'"
      ]
     },
     "execution_count": 41,
     "metadata": {},
     "output_type": "execute_result"
    }
   ],
   "source": [
    "db.name"
   ]
  },
  {
   "cell_type": "code",
   "execution_count": null,
   "id": "3f97c8c7",
   "metadata": {},
   "outputs": [],
   "source": []
  }
 ],
 "metadata": {
  "kernelspec": {
   "display_name": "Python 3",
   "language": "python",
   "name": "python3"
  },
  "language_info": {
   "codemirror_mode": {
    "name": "ipython",
    "version": 3
   },
   "file_extension": ".py",
   "mimetype": "text/x-python",
   "name": "python",
   "nbconvert_exporter": "python",
   "pygments_lexer": "ipython3",
   "version": "3.8.8"
  }
 },
 "nbformat": 4,
 "nbformat_minor": 5
}
