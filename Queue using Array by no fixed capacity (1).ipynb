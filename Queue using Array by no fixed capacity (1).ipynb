{
 "cells": [
  {
   "cell_type": "code",
   "execution_count": 57,
   "id": "c4d92257",
   "metadata": {},
   "outputs": [],
   "source": [
    "class myQueue:\n",
    "    def __init__(self):\n",
    "        # space O(n)\n",
    "        # OOM : out of memory error\n",
    "        self.names = []\n",
    "        \n",
    "    def isEmpty(self):\n",
    "        if self.names == []:\n",
    "            return True\n",
    "        else:\n",
    "            return False\n",
    "        \n",
    "    # time : append : O(n)\n",
    "    def enqueue(self, data):\n",
    "        self.names.append(data)\n",
    "    \n",
    "    # time: O(n)\n",
    "    def dequeue(self):  # FIFO\n",
    "        if self.isEmpty():\n",
    "            return \"i m empty...\"\n",
    "        else:\n",
    "            return self.names.pop(0)\n",
    "       \n",
    "    # time: O(1)\n",
    "    def peek(self):\n",
    "        if self.isEmpty():\n",
    "            return \"i m empty...\"\n",
    "        else:\n",
    "            return self.names[0]\n",
    "        \n",
    "    def delete(self):\n",
    "        self.names = None"
   ]
  },
  {
   "cell_type": "code",
   "execution_count": 58,
   "id": "98ad4d71",
   "metadata": {},
   "outputs": [],
   "source": [
    "movie = myQueue()"
   ]
  },
  {
   "cell_type": "code",
   "execution_count": 59,
   "id": "09976f08",
   "metadata": {},
   "outputs": [
    {
     "data": {
      "text/plain": [
       "[]"
      ]
     },
     "execution_count": 59,
     "metadata": {},
     "output_type": "execute_result"
    }
   ],
   "source": [
    "# movie.names"
   ]
  },
  {
   "cell_type": "code",
   "execution_count": 64,
   "id": "ebdf0360",
   "metadata": {},
   "outputs": [
    {
     "data": {
      "text/plain": [
       "False"
      ]
     },
     "execution_count": 64,
     "metadata": {},
     "output_type": "execute_result"
    }
   ],
   "source": [
    "movie.isEmpty()"
   ]
  },
  {
   "cell_type": "code",
   "execution_count": null,
   "id": "1ec2c949",
   "metadata": {},
   "outputs": [],
   "source": []
  },
  {
   "cell_type": "code",
   "execution_count": 61,
   "id": "1d82aa96",
   "metadata": {},
   "outputs": [],
   "source": [
    "movie.enqueue(\"vimal\")"
   ]
  },
  {
   "cell_type": "code",
   "execution_count": 62,
   "id": "4f124145",
   "metadata": {},
   "outputs": [],
   "source": [
    "movie.enqueue(\"rahul\")"
   ]
  },
  {
   "cell_type": "code",
   "execution_count": 63,
   "id": "556fb192",
   "metadata": {},
   "outputs": [],
   "source": [
    "movie.enqueue(\"tom\")"
   ]
  },
  {
   "cell_type": "code",
   "execution_count": 50,
   "id": "86918677",
   "metadata": {},
   "outputs": [
    {
     "data": {
      "text/plain": [
       "['vimal', 'rahul', 'tom']"
      ]
     },
     "execution_count": 50,
     "metadata": {},
     "output_type": "execute_result"
    }
   ],
   "source": [
    "movie.names"
   ]
  },
  {
   "cell_type": "code",
   "execution_count": 65,
   "id": "2b576ffc",
   "metadata": {},
   "outputs": [
    {
     "data": {
      "text/plain": [
       "'vimal'"
      ]
     },
     "execution_count": 65,
     "metadata": {},
     "output_type": "execute_result"
    }
   ],
   "source": [
    "movie.dequeue()"
   ]
  },
  {
   "cell_type": "code",
   "execution_count": 66,
   "id": "656dcf50",
   "metadata": {},
   "outputs": [],
   "source": [
    "movie.delete()"
   ]
  },
  {
   "cell_type": "code",
   "execution_count": 67,
   "id": "1ecc7405",
   "metadata": {},
   "outputs": [
    {
     "data": {
      "text/plain": [
       "False"
      ]
     },
     "execution_count": 67,
     "metadata": {},
     "output_type": "execute_result"
    }
   ],
   "source": [
    "movie.isEmpty()"
   ]
  },
  {
   "cell_type": "code",
   "execution_count": 68,
   "id": "4b5c2180",
   "metadata": {},
   "outputs": [],
   "source": [
    "movie.names"
   ]
  },
  {
   "cell_type": "code",
   "execution_count": null,
   "id": "4123e4a9",
   "metadata": {},
   "outputs": [],
   "source": []
  },
  {
   "cell_type": "code",
   "execution_count": null,
   "id": "cdb7df65",
   "metadata": {},
   "outputs": [],
   "source": []
  },
  {
   "cell_type": "code",
   "execution_count": 34,
   "id": "a57a2523",
   "metadata": {},
   "outputs": [
    {
     "data": {
      "text/plain": [
       "[]"
      ]
     },
     "execution_count": 34,
     "metadata": {},
     "output_type": "execute_result"
    }
   ],
   "source": [
    "movie.names"
   ]
  },
  {
   "cell_type": "code",
   "execution_count": null,
   "id": "7d522eb0",
   "metadata": {},
   "outputs": [],
   "source": []
  }
 ],
 "metadata": {
  "kernelspec": {
   "display_name": "Python 3",
   "language": "python",
   "name": "python3"
  },
  "language_info": {
   "codemirror_mode": {
    "name": "ipython",
    "version": 3
   },
   "file_extension": ".py",
   "mimetype": "text/x-python",
   "name": "python",
   "nbconvert_exporter": "python",
   "pygments_lexer": "ipython3",
   "version": "3.8.8"
  }
 },
 "nbformat": 4,
 "nbformat_minor": 5
}
